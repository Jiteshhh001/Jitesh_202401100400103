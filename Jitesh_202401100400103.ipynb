{
  "nbformat": 4,
  "nbformat_minor": 0,
  "metadata": {
    "colab": {
      "provenance": []
    },
    "kernelspec": {
      "name": "python3",
      "display_name": "Python 3"
    },
    "language_info": {
      "name": "python"
    }
  },
  "cells": [
    {
      "cell_type": "code",
      "execution_count": null,
      "metadata": {
        "colab": {
          "base_uri": "https://localhost:8080/",
          "height": 504
        },
        "id": "lOmuk20NNdx-",
        "outputId": "e3f92af2-2877-4040-8eaa-6ccdc97d92a2"
      },
      "outputs": [
        {
          "output_type": "display_data",
          "data": {
            "text/plain": [
              "<Figure size 500x500 with 1 Axes>"
            ],
            "image/png": "[encoded data removed]"
          },
          "metadata": {}
        }
      ],
      "source": [
        "import matplotlib.pyplot as plt\n",
        "import matplotlib.patches as patches\n",
        "import time\n",
        "from IPython.display import display, clear_output\n",
        "\n",
        "# Function to get the label for the traffic light\n",
        "def get_light_label(color):\n",
        "    labels = {\n",
        "        'red': 'RED (STOP)',\n",
        "        'yellow': 'YELLOW (WAIT)',\n",
        "        'green': 'GREEN (GO)'\n",
        "    }\n",
        "    return labels.get(color, '').upper()\n",
        "\n",
        "# Function to draw the traffic system with the active light\n",
        "def draw_traffic_system(light_color, remaining_time):\n",
        "    fig, ax = plt.subplots(figsize=(5, 5))\n",
        "    ax.set_xlim(0, 10)\n",
        "    ax.set_ylim(0, 10)\n",
        "    ax.set_xticks([])\n",
        "    ax.set_yticks([])\n",
        "    ax.set_facecolor('lightgray')\n",
        "\n",
        "    # Draw roads\n",
        "    ax.add_patch(patches.Rectangle((4, 0), 2, 10, color='gray'))  # Vertical road\n",
        "    ax.add_patch(patches.Rectangle((0, 4), 10, 2, color='gray'))  # Horizontal road\n",
        "\n",
        "    # Draw traffic light signal\n",
        "    traffic_light = patches.Circle((8, 8), 0.5, color=light_color)\n",
        "    ax.add_patch(traffic_light)\n",
        "\n",
        "    # Set title with light label and countdown\n",
        "    ax.set_title(f'Traffic Light: {get_light_label(light_color)} \\nTime Left: {remaining_time} sec')\n",
        "\n",
        "    clear_output(wait=True)\n",
        "    display(fig)\n",
        "    plt.close(fig)\n",
        "\n",
        "# Function to run the traffic light simulation\n",
        "def traffic_simulation(total_time):\n",
        "    red_time = int(total_time * 7 / 17)\n",
        "    yellow_time = int(total_time * 3 / 17)\n",
        "    green_time = total_time - (red_time + yellow_time)\n",
        "\n",
        "    sequence = [('red', red_time), ('yellow', yellow_time), ('green', green_time)]\n",
        "\n",
        "    while True:\n",
        "        for light, duration in sequence:\n",
        "            for remaining_time in range(duration, 0, -1):\n",
        "                print(f'{get_light_label(light)} - {remaining_time} sec left')\n",
        "                draw_traffic_system(light, remaining_time)\n",
        "                time.sleep(1)\n",
        "\n",
        "# Run the traffic light simulation with a default cycle time\n",
        "if __name__ == \"__main__\":\n",
        "    try:\n",
        "        default_time = 15\n",
        "        print(f\"Starting with default cycle time of {default_time} seconds...\")\n",
        "        traffic_simulation(default_time)\n",
        "    except KeyboardInterrupt:\n",
        "        total_time = int(input(\"Enter new total cycle time in seconds: \"))\n",
        "        traffic_simulation(total_time)\n"
      ]
    }
  ]
}